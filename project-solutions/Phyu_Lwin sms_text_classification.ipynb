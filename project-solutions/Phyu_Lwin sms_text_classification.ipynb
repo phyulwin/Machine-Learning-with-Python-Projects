{
  "cells": [
    {
      "cell_type": "code",
      "execution_count": null,
      "metadata": {
        "id": "8RZOuS9LWQvv"
      },
      "outputs": [],
      "source": [
        "# import libraries\n",
        "try:\n",
        "  # %tensorflow_version only exists in Colab.\n",
        "  !pip install tf-nightly\n",
        "except Exception:\n",
        "  pass\n",
        "import tensorflow as tf\n",
        "import pandas as pd\n",
        "from tensorflow import keras\n",
        "!pip install tensorflow-datasets\n",
        "import tensorflow_datasets as tfds\n",
        "import numpy as np\n",
        "import matplotlib.pyplot as plt\n",
        "\n",
        "print(tf.__version__)"
      ]
    },
    {
      "cell_type": "code",
      "execution_count": null,
      "metadata": {
        "id": "lMHwYXHXCar3"
      },
      "outputs": [],
      "source": [
        "# get data files\n",
        "!wget https://cdn.freecodecamp.org/project-data/sms/train-data.tsv\n",
        "!wget https://cdn.freecodecamp.org/project-data/sms/valid-data.tsv\n",
        "\n",
        "train_file_path = \"train-data.tsv\"\n",
        "test_file_path = \"valid-data.tsv\""
      ]
    },
    {
      "cell_type": "code",
      "source": [
        "import string\n",
        "\n",
        "import nltk\n",
        "from nltk.corpus import stopwords\n",
        "from nltk.stem.porter import PorterStemmer\n",
        "\n",
        "from sklearn.feature_extraction.text import CountVectorizer, TfidfVectorizer\n",
        "from sklearn.model_selection import train_test_split\n",
        "from sklearn.ensemble import RandomForestClassifier\n",
        "from sklearn.linear_model import LogisticRegression"
      ],
      "metadata": {
        "id": "p96VGEgRYk-J"
      },
      "execution_count": null,
      "outputs": []
    },
    {
      "cell_type": "code",
      "source": [
        "nltk.download('stopwords')"
      ],
      "metadata": {
        "id": "zzi5DS1nYuK5"
      },
      "execution_count": null,
      "outputs": []
    },
    {
      "cell_type": "code",
      "source": [
        "df = pd.read_csv(\"train-data.tsv\", sep=\"\\t\")\n",
        "df.columns = ['label', 'text']\n",
        "df"
      ],
      "metadata": {
        "id": "askq8yNaYvbJ"
      },
      "execution_count": null,
      "outputs": []
    },
    {
      "cell_type": "code",
      "source": [
        "df['text'] = df['text'].apply(lambda x: x.replace('\\r\\n', ' '))\n",
        "df\n",
        "df.text.iloc[1]"
      ],
      "metadata": {
        "id": "0fbfr00eZL-h"
      },
      "execution_count": null,
      "outputs": []
    },
    {
      "cell_type": "code",
      "source": [
        "stemmer = PorterStemmer() # reduce words to their root form (e.g., \"running\" to \"run\").\n",
        "corpus = [] # an empty list to store the processed text data\n",
        "\n",
        "# Creates a set of common English stopwords (e.g., \"the\", \"and\", \"is\") that will be removed from the text.\n",
        "stopwords_set = set(stopwords.words('english'))\n",
        "\n",
        "for i in range(len(df)):\n",
        "    text = df['text'].iloc[i].lower() # lower case all the text\n",
        "\n",
        "    # remove all punctuations and splits it into individual words\n",
        "    text = text.translate(str.maketrans('', '', string.punctuation))\n",
        "    text = text.split()\n",
        "\n",
        "    # Applies stemming to each word in the text and removes stopwords.\n",
        "    text = [stemmer.stem(word) for word in text if word not in stopwords_set]\n",
        "\n",
        "    text = ' '.join(text)\n",
        "    corpus.append(text)"
      ],
      "metadata": {
        "id": "TRkg3eDeZ3aZ"
      },
      "execution_count": null,
      "outputs": []
    },
    {
      "cell_type": "code",
      "source": [
        "# # Initialize the CountVectorizer\n",
        "# vectorizer = CountVectorizer()\n",
        "\n",
        "# # Transform the corpus into a document-term matrix\n",
        "# X = vectorizer.fit_transform(corpus).toarray()\n",
        "# Y = df.label #FIXED\n",
        "\n",
        "# FIXED\n",
        "vectorizer = TfidfVectorizer(ngram_range=(1, 2))  # Using bi-grams\n",
        "X = vectorizer.fit_transform(corpus)\n",
        "Y = df['label'].apply(lambda x: 1 if x == 'spam' else 0)\n",
        "\n",
        "# Split the data into training and testing sets\n",
        "X_train, X_test, Y_train, Y_test = train_test_split(X, Y, test_size=0.2)"
      ],
      "metadata": {
        "id": "Zw3hj9QJZ7H4"
      },
      "execution_count": null,
      "outputs": []
    },
    {
      "cell_type": "code",
      "source": [
        "# clf = RandomForestClassifier(n_jobs=-1)\n",
        "clf = LogisticRegression(solver='liblinear')\n",
        "clf.fit(X_train, Y_train)"
      ],
      "metadata": {
        "id": "0fqoJi4babc5"
      },
      "execution_count": null,
      "outputs": []
    },
    {
      "cell_type": "code",
      "source": [
        "clf.score(X_test, Y_test)"
      ],
      "metadata": {
        "id": "f2vwso55alcK"
      },
      "execution_count": null,
      "outputs": []
    },
    {
      "cell_type": "code",
      "source": [
        "email_to_classify = df.text.values[10]\n",
        "email_text = email_to_classify.lower().translate(str.maketrans('','',string.punctuation)).split()\n",
        "email_text = [stemmer.stem(word) for word in text if word not in stopwords_set] # Stem and Remove Stopwords\n",
        "email_text = ' '.join(email_text) # Combines the processed words back into a single string.\n",
        "\n",
        "email_corpus = [email_text] # Puts the processed email text into a list.\n",
        "\n",
        "X_email = vectorizer.transform(email_corpus)"
      ],
      "metadata": {
        "id": "u7r7CNyZawsh"
      },
      "execution_count": null,
      "outputs": []
    },
    {
      "cell_type": "code",
      "source": [
        "clf.predict(X_email)\n",
        "\n",
        "df.label.iloc[10]\n",
        "\n",
        "# the prediction is correct"
      ],
      "metadata": {
        "id": "GwYaAwtna7Bp"
      },
      "execution_count": null,
      "outputs": []
    },
    {
      "cell_type": "code",
      "source": [
        "def preprocess_text(text):\n",
        "    text = text.lower()\n",
        "    text = text.translate(str.maketrans('', '', string.punctuation))\n",
        "    text = text.split()\n",
        "    text = [stemmer.stem(word) for word in text if word not in stopwords_set]\n",
        "    return ' '.join(text)"
      ],
      "metadata": {
        "id": "UUJF9P4XbKRw"
      },
      "execution_count": null,
      "outputs": []
    },
    {
      "cell_type": "markdown",
      "source": [
        "You should create a function called predict_message that takes a message string as an argument and returns a list. The first element in the list should be a number between zero and one that indicates the likeliness of \"ham\" (0) or \"spam\" (1). The second element in the list should be the word \"ham\" or \"spam\", depending on which is most likely.\n",
        "\n",
        "For this challenge, you will use the SMS Spam Collection dataset. The dataset has already been grouped into train data and test data.\n",
        "\n",
        "The first two cells import the libraries and data. The final cell tests your model and function. Add your code in between these cells."
      ],
      "metadata": {
        "id": "Lk2LrareYAcY"
      }
    },
    {
      "cell_type": "code",
      "execution_count": null,
      "metadata": {
        "id": "J9tD9yACG6M9"
      },
      "outputs": [],
      "source": [
        "# function to predict messages based on model\n",
        "# (should return list containing prediction and label, ex. [0.008318834938108921, 'ham'])\n",
        "def predict_message(pred_text):\n",
        "    pred_text = pred_text.lower()\n",
        "    pred_text = pred_text.translate(str.maketrans('', '', string.punctuation))\n",
        "    pred_text = pred_text.split()\n",
        "    pred_text = [stemmer.stem(word) for word in pred_text if word not in stopwords_set]\n",
        "    pred_text = ' '.join(pred_text)\n",
        "\n",
        "    X_pred = vectorizer.transform([pred_text])\n",
        "    prediction_probability = clf.predict_proba(X_pred)[0][1]\n",
        "    prediction_label = \"spam\" if prediction_probability > 0.5 else \"ham\"\n",
        "    result = [prediction_probability, prediction_label]\n",
        "    print(result)\n",
        "    return result\n",
        "\n",
        "# pred_text = \"how are you doing today?\"\n",
        "\n",
        "# prediction = predict_message(pred_text)\n",
        "# print(prediction)\n",
        "\n",
        "test_messages = [\"how are you doing today\",\n",
        "                  \"sale today! to stop texts call 98912460324\",\n",
        "                  \"i dont want to go. can we try it a different day? available sat\",\n",
        "                  \"our new mobile video service is live. just install on your phone to start watching.\",\n",
        "                  \"you have won £1000 cash! call to claim your prize.\",\n",
        "                  \"i'll bring it tomorrow. don't forget the milk.\",\n",
        "                  \"wow, is your arm alright. that happened to me one time too\"\n",
        "                ]\n",
        "\n",
        "for msg in test_messages:\n",
        "    print(msg)\n",
        "    prediction = predict_message(msg)"
      ]
    },
    {
      "cell_type": "code",
      "execution_count": null,
      "metadata": {
        "id": "Dxotov85SjsC"
      },
      "outputs": [],
      "source": [
        "# Run this cell to test your function and model. Do not modify contents.\n",
        "def test_predictions():\n",
        "  test_messages = [\"how are you doing today\",\n",
        "                   \"sale today! to stop texts call 98912460324\",\n",
        "                   \"i dont want to go. can we try it a different day? available sat\",\n",
        "                   \"our new mobile video service is live. just install on your phone to start watching.\",\n",
        "                   \"you have won £1000 cash! call to claim your prize.\",\n",
        "                   \"i'll bring it tomorrow. don't forget the milk.\",\n",
        "                   \"wow, is your arm alright. that happened to me one time too\"\n",
        "                  ]\n",
        "\n",
        "  test_answers = [\"ham\", \"spam\", \"ham\", \"spam\", \"spam\", \"ham\", \"ham\"]\n",
        "  passed = True\n",
        "\n",
        "  for msg, ans in zip(test_messages, test_answers):\n",
        "    prediction = predict_message(msg)\n",
        "    if prediction[1] != ans:\n",
        "      passed = False\n",
        "\n",
        "  if passed:\n",
        "    print(\"You passed the challenge. Great job!\")\n",
        "  else:\n",
        "    print(\"You haven't passed yet. Keep trying.\")\n",
        "\n",
        "test_predictions()\n"
      ]
    }
  ],
  "metadata": {
    "colab": {
      "private_outputs": true,
      "provenance": []
    },
    "kernelspec": {
      "display_name": "Python 3",
      "name": "python3"
    },
    "language_info": {}
  },
  "nbformat": 4,
  "nbformat_minor": 0
}